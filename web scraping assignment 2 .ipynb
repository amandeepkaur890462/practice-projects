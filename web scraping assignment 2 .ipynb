{
 "cells": [
  {
   "cell_type": "code",
   "execution_count": 1,
   "metadata": {},
   "outputs": [
    {
     "name": "stdout",
     "output_type": "stream",
     "text": [
      "Requirement already satisfied: selenium in c:\\python\\lib\\site-packages (3.141.0)\n",
      "Requirement already satisfied: urllib3 in c:\\python\\lib\\site-packages (from selenium) (1.25.11)\n"
     ]
    }
   ],
   "source": [
    "#lets 1st install selenium libreary\n",
    "! pip install selenium"
   ]
  },
  {
   "cell_type": "code",
   "execution_count": 2,
   "metadata": {},
   "outputs": [],
   "source": [
    "#lets now import all the required libraries\n",
    "import selenium\n",
    "import pandas as pd\n",
    "from selenium import webdriver"
   ]
  },
  {
   "cell_type": "code",
   "execution_count": 3,
   "metadata": {},
   "outputs": [],
   "source": [
    "# lets first connect to the web drivers\n",
    "driver = webdriver.Chrome(r\"C:\\Program Files (x86)\\chromedriver.exe\")"
   ]
  },
  {
   "cell_type": "code",
   "execution_count": 4,
   "metadata": {},
   "outputs": [],
   "source": [
    "driver.get('https://www.naukri.com/')"
   ]
  },
  {
   "cell_type": "code",
   "execution_count": 5,
   "metadata": {},
   "outputs": [],
   "source": [
    "#finding element for job search bar\n",
    "skill_job = driver.find_element_by_id('qsb-keyword-sugg')\n",
    "skill_job.send_keys(\"Data Analyst\")\n",
    "Designations_job = driver.find_element_by_id('qsb-keyword-sugg')\n",
    "Designations_job.send_keys(\"Data Analyst\")\n",
    "Companies_job = driver.find_element_by_id('qsb-keyword-sugg')\n",
    "Companies_job.send_keys(\"Data Analyst\")\n",
    "search_job = driver.find_element_by_id('qsb-keyword-sugg')\n",
    "search_job.send_keys(\"Data Analyst\")\n",
    "search_loc = driver.find_element_by_xpath(\"//input[@id='qsb-location-sugg']\")\n",
    "search_loc.send_keys(\"Bangalore\")"
   ]
  },
  {
   "cell_type": "code",
   "execution_count": 6,
   "metadata": {},
   "outputs": [],
   "source": [
    "search_btn = driver.find_element_by_xpath(\"//div[@class='search-btn']/button\")\n",
    "search_btn.click()"
   ]
  },
  {
   "cell_type": "code",
   "execution_count": 7,
   "metadata": {},
   "outputs": [],
   "source": [
    "#specifying the url of the webpage to be scraped\n",
    "url=\"https://www.naukri.com/data-analyst-data-analystdata-analyst-data-analystdata-analyst-jobs-in-bangalore?k=data%20analyst%2C%20data%20analystdata%20analystdata%20analystdata%20analyst%2C%20data%20analystdata%20analystdata%20analystdata%20analyst&l=bangalore%2C%20bangalore%2C%20bangalore\""
   ]
  },
  {
   "cell_type": "code",
   "execution_count": 8,
   "metadata": {},
   "outputs": [],
   "source": [
    "#lets open the webpage through our web driver\n",
    "driver.get(url)"
   ]
  },
  {
   "cell_type": "markdown",
   "metadata": {},
   "source": [
    "Now lets first create 4 empty lists, in these lists the data will be stored while scraping . we have created 4 emplty lists for which we have to extract"
   ]
  },
  {
   "cell_type": "markdown",
   "metadata": {},
   "source": [
    "1.job_title  "
   ]
  },
  {
   "cell_type": "markdown",
   "metadata": {},
   "source": [
    "2.company_names  "
   ]
  },
  {
   "cell_type": "markdown",
   "metadata": {},
   "source": [
    "3.locations_list"
   ]
  },
  {
   "cell_type": "markdown",
   "metadata": {},
   "source": [
    "4.experience_list"
   ]
  },
  {
   "cell_type": "code",
   "execution_count": 9,
   "metadata": {},
   "outputs": [],
   "source": [
    "job_titles=[]\n",
    "company_names=[]\n",
    "locations_list=[]\n",
    "experience_list=[]"
   ]
  },
  {
   "cell_type": "code",
   "execution_count": 10,
   "metadata": {},
   "outputs": [
    {
     "data": {
      "text/plain": [
       "[<selenium.webdriver.remote.webelement.WebElement (session=\"12b408d20c06f4d8f6bc88622de3b719\", element=\"4820553d-0f99-4199-885e-7666d428e796\")>,\n",
       " <selenium.webdriver.remote.webelement.WebElement (session=\"12b408d20c06f4d8f6bc88622de3b719\", element=\"c0d7a530-982e-4704-a0a6-e9c716c40fd4\")>,\n",
       " <selenium.webdriver.remote.webelement.WebElement (session=\"12b408d20c06f4d8f6bc88622de3b719\", element=\"139a204a-22d3-427d-ba75-9c57579cd8a0\")>,\n",
       " <selenium.webdriver.remote.webelement.WebElement (session=\"12b408d20c06f4d8f6bc88622de3b719\", element=\"6a9a2b70-8f59-4908-8807-56c287dbcdb8\")>,\n",
       " <selenium.webdriver.remote.webelement.WebElement (session=\"12b408d20c06f4d8f6bc88622de3b719\", element=\"bbe866d6-1295-4257-9e6c-0949eba63a13\")>,\n",
       " <selenium.webdriver.remote.webelement.WebElement (session=\"12b408d20c06f4d8f6bc88622de3b719\", element=\"885c1d30-a3ad-43bd-8e2b-2fa05cca6c65\")>,\n",
       " <selenium.webdriver.remote.webelement.WebElement (session=\"12b408d20c06f4d8f6bc88622de3b719\", element=\"cb465c6d-1132-420e-970c-39b1425e9a18\")>,\n",
       " <selenium.webdriver.remote.webelement.WebElement (session=\"12b408d20c06f4d8f6bc88622de3b719\", element=\"b9d9a4ca-c468-4b8b-a22b-aa28d305a8fd\")>,\n",
       " <selenium.webdriver.remote.webelement.WebElement (session=\"12b408d20c06f4d8f6bc88622de3b719\", element=\"058e872e-07b3-4671-8442-411d12ad2b92\")>,\n",
       " <selenium.webdriver.remote.webelement.WebElement (session=\"12b408d20c06f4d8f6bc88622de3b719\", element=\"90a9587d-33e2-4449-944c-1a363a6dcbd3\")>]"
      ]
     },
     "execution_count": 10,
     "metadata": {},
     "output_type": "execute_result"
    }
   ],
   "source": [
    "# so lets extract all the tags having the job-titles\n",
    "titles_tags=driver.find_elements_by_xpath(\"//a[@class='title fw500 ellipsis']\")\n",
    "titles_tags[0:10]"
   ]
  },
  {
   "cell_type": "code",
   "execution_count": 11,
   "metadata": {},
   "outputs": [
    {
     "data": {
      "text/plain": [
       "['Senior Data Analyst',\n",
       " 'Senior Data Analyst',\n",
       " 'Data Analyst',\n",
       " 'Sr Manager I - Data Analyst (MINT)',\n",
       " 'Data Analyst',\n",
       " 'Sr Manager I Data Analyst (MINT)',\n",
       " 'Data Analyst',\n",
       " 'Data Analyst',\n",
       " 'Junior Data Analyst',\n",
       " 'Data Analyst']"
      ]
     },
     "execution_count": 11,
     "metadata": {},
     "output_type": "execute_result"
    }
   ],
   "source": [
    "#now the text of the job title is inside the tags extracted above\n",
    "# so we will run a loop to iterate over the tags extracted above and extract the text inside them.\n",
    "for i in titles_tags:\n",
    "    title=i.text\n",
    "    job_titles.append(title)\n",
    "job_titles[0:10]"
   ]
  },
  {
   "cell_type": "markdown",
   "metadata": {},
   "source": [
    "Now we will extract all the html tags where we have the company names. Let me first show you in which tag the company names are put of webpage."
   ]
  },
  {
   "cell_type": "code",
   "execution_count": 12,
   "metadata": {},
   "outputs": [
    {
     "data": {
      "text/plain": [
       "[<selenium.webdriver.remote.webelement.WebElement (session=\"12b408d20c06f4d8f6bc88622de3b719\", element=\"98bf0702-1ea4-44c0-b5b1-e362d12ef7ae\")>,\n",
       " <selenium.webdriver.remote.webelement.WebElement (session=\"12b408d20c06f4d8f6bc88622de3b719\", element=\"bf435124-aba3-48ad-be4f-5835e8c91d78\")>,\n",
       " <selenium.webdriver.remote.webelement.WebElement (session=\"12b408d20c06f4d8f6bc88622de3b719\", element=\"3aeb2950-6e05-4665-8455-1972ed71462c\")>,\n",
       " <selenium.webdriver.remote.webelement.WebElement (session=\"12b408d20c06f4d8f6bc88622de3b719\", element=\"44387dce-0f21-4b3f-b907-7e7f0efbcd39\")>,\n",
       " <selenium.webdriver.remote.webelement.WebElement (session=\"12b408d20c06f4d8f6bc88622de3b719\", element=\"b8267dd9-e7a3-4713-9e6b-e771abec6527\")>,\n",
       " <selenium.webdriver.remote.webelement.WebElement (session=\"12b408d20c06f4d8f6bc88622de3b719\", element=\"eb8aa4f3-0738-40fa-8ae0-cc58ceccf031\")>,\n",
       " <selenium.webdriver.remote.webelement.WebElement (session=\"12b408d20c06f4d8f6bc88622de3b719\", element=\"fb6c0668-98b9-4e08-82a3-9051c59db613\")>,\n",
       " <selenium.webdriver.remote.webelement.WebElement (session=\"12b408d20c06f4d8f6bc88622de3b719\", element=\"fd5fb97e-69d9-4d72-babd-d0622cb150c8\")>,\n",
       " <selenium.webdriver.remote.webelement.WebElement (session=\"12b408d20c06f4d8f6bc88622de3b719\", element=\"f36d6666-3d16-4848-acac-ab3f110274d2\")>,\n",
       " <selenium.webdriver.remote.webelement.WebElement (session=\"12b408d20c06f4d8f6bc88622de3b719\", element=\"35973bc9-67ff-490d-bdcc-908fe0bfde3e\")>]"
      ]
     },
     "execution_count": 12,
     "metadata": {},
     "output_type": "execute_result"
    }
   ],
   "source": [
    "# lets extract all the tags having company names \n",
    "companies_tags=driver.find_elements_by_xpath(\"//a[@class='subTitle ellipsis fleft']\")\n",
    "companies_tags[0:10]"
   ]
  },
  {
   "cell_type": "markdown",
   "metadata": {},
   "source": [
    "Now we will extract the text from these tags one by one by looping over these tags"
   ]
  },
  {
   "cell_type": "code",
   "execution_count": 13,
   "metadata": {},
   "outputs": [
    {
     "data": {
      "text/plain": [
       "['Cerner Corporation',\n",
       " 'Cerner',\n",
       " 'WEIWO Communication Pvt. Ltd.',\n",
       " 'ExecBoardinAsia',\n",
       " 'Myntra Designs Pvt. Ltd.',\n",
       " 'Walmart Labs',\n",
       " 'CONDUENT BUSINESS SERVICES INDIA LLP',\n",
       " 'GlaxoSmithKline Pharmaceuticals Limited',\n",
       " 'Happy Marketer Private Ltd',\n",
       " 'tech mahindra ltd']"
      ]
     },
     "execution_count": 13,
     "metadata": {},
     "output_type": "execute_result"
    }
   ],
   "source": [
    "for i in companies_tags:\n",
    "    company_name=i.text\n",
    "    company_names.append(company_name)\n",
    "company_names[0:10]"
   ]
  },
  {
   "cell_type": "markdown",
   "metadata": {},
   "source": [
    "Now we will extract all the html tags where we have the location of the job data. Let me first show you in which tags this data is put on the webpage"
   ]
  },
  {
   "cell_type": "code",
   "execution_count": 14,
   "metadata": {},
   "outputs": [
    {
     "data": {
      "text/plain": [
       "[<selenium.webdriver.remote.webelement.WebElement (session=\"12b408d20c06f4d8f6bc88622de3b719\", element=\"de8c358d-512e-4f48-bad0-e25419581ea8\")>,\n",
       " <selenium.webdriver.remote.webelement.WebElement (session=\"12b408d20c06f4d8f6bc88622de3b719\", element=\"0ec76eaf-a310-476e-bdac-e5088df79afc\")>,\n",
       " <selenium.webdriver.remote.webelement.WebElement (session=\"12b408d20c06f4d8f6bc88622de3b719\", element=\"a5b88810-89c3-4687-98e5-2a5f3f9d4084\")>,\n",
       " <selenium.webdriver.remote.webelement.WebElement (session=\"12b408d20c06f4d8f6bc88622de3b719\", element=\"2bb371d8-53c3-411f-90cf-140fcf121b4f\")>,\n",
       " <selenium.webdriver.remote.webelement.WebElement (session=\"12b408d20c06f4d8f6bc88622de3b719\", element=\"7dc7bca6-5c01-40ef-8b87-400f610ae69f\")>,\n",
       " <selenium.webdriver.remote.webelement.WebElement (session=\"12b408d20c06f4d8f6bc88622de3b719\", element=\"c84eabf4-112b-43ec-a33e-5d5ff6801eb8\")>,\n",
       " <selenium.webdriver.remote.webelement.WebElement (session=\"12b408d20c06f4d8f6bc88622de3b719\", element=\"a287fea5-04dd-4421-a3b7-38fdfd727f64\")>,\n",
       " <selenium.webdriver.remote.webelement.WebElement (session=\"12b408d20c06f4d8f6bc88622de3b719\", element=\"c13fca6c-a5b8-4d1f-8110-80d18e7a1030\")>,\n",
       " <selenium.webdriver.remote.webelement.WebElement (session=\"12b408d20c06f4d8f6bc88622de3b719\", element=\"cffdc27a-96f4-44de-b550-a81254765630\")>,\n",
       " <selenium.webdriver.remote.webelement.WebElement (session=\"12b408d20c06f4d8f6bc88622de3b719\", element=\"7cca224e-f58b-4c41-94e1-2acc81dc8538\")>]"
      ]
     },
     "execution_count": 14,
     "metadata": {},
     "output_type": "execute_result"
    }
   ],
   "source": [
    "locations_tags=driver.find_elements_by_xpath(\"//li[@class='fleft grey-text br2 placeHolderLi location']\")\n",
    "locations_tags[0:10]"
   ]
  },
  {
   "cell_type": "code",
   "execution_count": 15,
   "metadata": {},
   "outputs": [
    {
     "data": {
      "text/plain": [
       "['Bangalore/Bengaluru',\n",
       " 'Bangalore/Bengaluru',\n",
       " 'Bangalore/Bengaluru(Ulsoor)',\n",
       " 'Bangalore/Bengaluru',\n",
       " 'Bangalore/Bengaluru',\n",
       " 'Bangalore/Bengaluru',\n",
       " 'Bangalore/Bengaluru',\n",
       " 'Bangalore/Bengaluru',\n",
       " 'Bangalore/Bengaluru, Mumbai (All Areas)',\n",
       " 'Bangalore/Bengaluru']"
      ]
     },
     "execution_count": 15,
     "metadata": {},
     "output_type": "execute_result"
    }
   ],
   "source": [
    "for i in locations_tags:\n",
    "    location=i.text\n",
    "    locations_list.append(location)\n",
    "locations_list[0:10]"
   ]
  },
  {
   "cell_type": "markdown",
   "metadata": {},
   "source": [
    "Now we will extract all the html tags where we have the experience required for the job data. "
   ]
  },
  {
   "cell_type": "code",
   "execution_count": 16,
   "metadata": {},
   "outputs": [
    {
     "data": {
      "text/plain": [
       "[<selenium.webdriver.remote.webelement.WebElement (session=\"12b408d20c06f4d8f6bc88622de3b719\", element=\"d9080d5e-caa3-41db-be00-8d1762f7ff49\")>,\n",
       " <selenium.webdriver.remote.webelement.WebElement (session=\"12b408d20c06f4d8f6bc88622de3b719\", element=\"b85902e5-2a9e-48d5-b3f0-f988333fa62d\")>,\n",
       " <selenium.webdriver.remote.webelement.WebElement (session=\"12b408d20c06f4d8f6bc88622de3b719\", element=\"7456b399-3313-4b7e-80ff-06c853c62406\")>,\n",
       " <selenium.webdriver.remote.webelement.WebElement (session=\"12b408d20c06f4d8f6bc88622de3b719\", element=\"a1e23b75-5ae8-44ae-9119-b9ed6d1fe244\")>,\n",
       " <selenium.webdriver.remote.webelement.WebElement (session=\"12b408d20c06f4d8f6bc88622de3b719\", element=\"9dd77b45-b50c-4f09-a877-e2c64808b5c8\")>,\n",
       " <selenium.webdriver.remote.webelement.WebElement (session=\"12b408d20c06f4d8f6bc88622de3b719\", element=\"7c64ce1d-c245-431a-bc31-90a239fdcbb3\")>,\n",
       " <selenium.webdriver.remote.webelement.WebElement (session=\"12b408d20c06f4d8f6bc88622de3b719\", element=\"41e834c0-e731-4c69-8014-8225f49b9519\")>,\n",
       " <selenium.webdriver.remote.webelement.WebElement (session=\"12b408d20c06f4d8f6bc88622de3b719\", element=\"52ea2fc3-1a7f-4198-abe1-364e50e8da80\")>,\n",
       " <selenium.webdriver.remote.webelement.WebElement (session=\"12b408d20c06f4d8f6bc88622de3b719\", element=\"4e3afd16-d37b-4be4-b86b-4d6b6c20852e\")>,\n",
       " <selenium.webdriver.remote.webelement.WebElement (session=\"12b408d20c06f4d8f6bc88622de3b719\", element=\"9c853ea2-728d-4eee-af8f-307b1fc2a340\")>]"
      ]
     },
     "execution_count": 16,
     "metadata": {},
     "output_type": "execute_result"
    }
   ],
   "source": [
    "experience_tags=driver.find_elements_by_xpath(\"//li[@class='fleft grey-text br2 placeHolderLi experience']\")\n",
    "experience_tags[0:10]"
   ]
  },
  {
   "cell_type": "code",
   "execution_count": 17,
   "metadata": {},
   "outputs": [
    {
     "data": {
      "text/plain": [
       "['4-9 Yrs',\n",
       " '3-5 Yrs',\n",
       " '5-8 Yrs',\n",
       " '11-15 Yrs',\n",
       " '3-6 Yrs',\n",
       " '10-15 Yrs',\n",
       " '1-2 Yrs',\n",
       " '2-7 Yrs',\n",
       " '1-3 Yrs',\n",
       " '4-8 Yrs']"
      ]
     },
     "execution_count": 17,
     "metadata": {},
     "output_type": "execute_result"
    }
   ],
   "source": [
    "for i in experience_tags:\n",
    "    experience=i.text\n",
    "    experience_list.append(experience)\n",
    "experience_list[0:10]"
   ]
  },
  {
   "cell_type": "code",
   "execution_count": 18,
   "metadata": {},
   "outputs": [
    {
     "name": "stdout",
     "output_type": "stream",
     "text": [
      "20 20 20 20\n"
     ]
    }
   ],
   "source": [
    "print(len(job_titles),len(company_names),len(locations_list),len(experience_list))"
   ]
  },
  {
   "cell_type": "markdown",
   "metadata": {},
   "source": [
    "# Q2)"
   ]
  },
  {
   "cell_type": "code",
   "execution_count": 23,
   "metadata": {},
   "outputs": [],
   "source": [
    "driver.get('https://www.naukri.com/')"
   ]
  },
  {
   "cell_type": "code",
   "execution_count": 24,
   "metadata": {},
   "outputs": [],
   "source": [
    "#finding element for job search bar\n",
    "skill_job2 = driver.find_element_by_xpath(\"//input[@id='qsb-keyword-sugg']\")\n",
    "skill_job2.send_keys(\"Data Scientist\")\n",
    "search_loc = driver.find_element_by_xpath(\"//input[@id='qsb-location-sugg']\")\n",
    "search_loc.send_keys(\"Bangalore\")"
   ]
  },
  {
   "cell_type": "code",
   "execution_count": 25,
   "metadata": {},
   "outputs": [],
   "source": [
    "search_btn2 = driver.find_element_by_xpath(\"//div[@class='search-btn']/button\")\n",
    "search_btn2.click()"
   ]
  },
  {
   "cell_type": "markdown",
   "metadata": {},
   "source": [
    "# Q4)"
   ]
  },
  {
   "cell_type": "code",
   "execution_count": 44,
   "metadata": {},
   "outputs": [],
   "source": [
    "driver.get(' https://www.glassdoor.co.in/index.htm')"
   ]
  },
  {
   "cell_type": "code",
   "execution_count": 45,
   "metadata": {},
   "outputs": [],
   "source": [
    "#finding element for job search bar\n",
    "skill_job4 = driver.find_element_by_xpath(\"//input[@id='sc.keyword']\")\n",
    "skill_job4.send_keys(\"Data Scientist\")\n",
    "search_loc = driver.find_element_by_xpath(\"//input[@id='sc.location']\")\n",
    "search_loc.send_keys(\"Noida\")"
   ]
  },
  {
   "cell_type": "code",
   "execution_count": 55,
   "metadata": {},
   "outputs": [
    {
     "ename": "NoSuchElementException",
     "evalue": "Message: no such element: Unable to locate element: {\"method\":\"xpath\",\"selector\":\"//button[@class='gd-ui-button ml-std col-auto SearchStyles_newSearchButton css-iixdfr']\"}\n  (Session info: chrome=89.0.4389.114)\n",
     "output_type": "error",
     "traceback": [
      "\u001b[1;31m---------------------------------------------------------------------------\u001b[0m",
      "\u001b[1;31mNoSuchElementException\u001b[0m                    Traceback (most recent call last)",
      "\u001b[1;32m<ipython-input-55-14487f3e1dae>\u001b[0m in \u001b[0;36m<module>\u001b[1;34m\u001b[0m\n\u001b[1;32m----> 1\u001b[1;33m \u001b[0msearch_btn2\u001b[0m \u001b[1;33m=\u001b[0m \u001b[0mdriver\u001b[0m\u001b[1;33m.\u001b[0m\u001b[0mfind_element_by_xpath\u001b[0m\u001b[1;33m(\u001b[0m\u001b[1;34m\"//button[@class='gd-ui-button ml-std col-auto SearchStyles_newSearchButton css-iixdfr']\"\u001b[0m\u001b[1;33m)\u001b[0m\u001b[1;33m\u001b[0m\u001b[1;33m\u001b[0m\u001b[0m\n\u001b[0m\u001b[0;32m      2\u001b[0m \u001b[0msearch_btn2\u001b[0m\u001b[1;33m.\u001b[0m\u001b[0mclick\u001b[0m\u001b[1;33m(\u001b[0m\u001b[1;33m)\u001b[0m\u001b[1;33m\u001b[0m\u001b[1;33m\u001b[0m\u001b[0m\n",
      "\u001b[1;32mC:\\Python\\lib\\site-packages\\selenium\\webdriver\\remote\\webdriver.py\u001b[0m in \u001b[0;36mfind_element_by_xpath\u001b[1;34m(self, xpath)\u001b[0m\n\u001b[0;32m    392\u001b[0m             \u001b[0melement\u001b[0m \u001b[1;33m=\u001b[0m \u001b[0mdriver\u001b[0m\u001b[1;33m.\u001b[0m\u001b[0mfind_element_by_xpath\u001b[0m\u001b[1;33m(\u001b[0m\u001b[1;34m'//div/td[1]'\u001b[0m\u001b[1;33m)\u001b[0m\u001b[1;33m\u001b[0m\u001b[1;33m\u001b[0m\u001b[0m\n\u001b[0;32m    393\u001b[0m         \"\"\"\n\u001b[1;32m--> 394\u001b[1;33m         \u001b[1;32mreturn\u001b[0m \u001b[0mself\u001b[0m\u001b[1;33m.\u001b[0m\u001b[0mfind_element\u001b[0m\u001b[1;33m(\u001b[0m\u001b[0mby\u001b[0m\u001b[1;33m=\u001b[0m\u001b[0mBy\u001b[0m\u001b[1;33m.\u001b[0m\u001b[0mXPATH\u001b[0m\u001b[1;33m,\u001b[0m \u001b[0mvalue\u001b[0m\u001b[1;33m=\u001b[0m\u001b[0mxpath\u001b[0m\u001b[1;33m)\u001b[0m\u001b[1;33m\u001b[0m\u001b[1;33m\u001b[0m\u001b[0m\n\u001b[0m\u001b[0;32m    395\u001b[0m \u001b[1;33m\u001b[0m\u001b[0m\n\u001b[0;32m    396\u001b[0m     \u001b[1;32mdef\u001b[0m \u001b[0mfind_elements_by_xpath\u001b[0m\u001b[1;33m(\u001b[0m\u001b[0mself\u001b[0m\u001b[1;33m,\u001b[0m \u001b[0mxpath\u001b[0m\u001b[1;33m)\u001b[0m\u001b[1;33m:\u001b[0m\u001b[1;33m\u001b[0m\u001b[1;33m\u001b[0m\u001b[0m\n",
      "\u001b[1;32mC:\\Python\\lib\\site-packages\\selenium\\webdriver\\remote\\webdriver.py\u001b[0m in \u001b[0;36mfind_element\u001b[1;34m(self, by, value)\u001b[0m\n\u001b[0;32m    974\u001b[0m                 \u001b[0mby\u001b[0m \u001b[1;33m=\u001b[0m \u001b[0mBy\u001b[0m\u001b[1;33m.\u001b[0m\u001b[0mCSS_SELECTOR\u001b[0m\u001b[1;33m\u001b[0m\u001b[1;33m\u001b[0m\u001b[0m\n\u001b[0;32m    975\u001b[0m                 \u001b[0mvalue\u001b[0m \u001b[1;33m=\u001b[0m \u001b[1;34m'[name=\"%s\"]'\u001b[0m \u001b[1;33m%\u001b[0m \u001b[0mvalue\u001b[0m\u001b[1;33m\u001b[0m\u001b[1;33m\u001b[0m\u001b[0m\n\u001b[1;32m--> 976\u001b[1;33m         return self.execute(Command.FIND_ELEMENT, {\n\u001b[0m\u001b[0;32m    977\u001b[0m             \u001b[1;34m'using'\u001b[0m\u001b[1;33m:\u001b[0m \u001b[0mby\u001b[0m\u001b[1;33m,\u001b[0m\u001b[1;33m\u001b[0m\u001b[1;33m\u001b[0m\u001b[0m\n\u001b[0;32m    978\u001b[0m             'value': value})['value']\n",
      "\u001b[1;32mC:\\Python\\lib\\site-packages\\selenium\\webdriver\\remote\\webdriver.py\u001b[0m in \u001b[0;36mexecute\u001b[1;34m(self, driver_command, params)\u001b[0m\n\u001b[0;32m    319\u001b[0m         \u001b[0mresponse\u001b[0m \u001b[1;33m=\u001b[0m \u001b[0mself\u001b[0m\u001b[1;33m.\u001b[0m\u001b[0mcommand_executor\u001b[0m\u001b[1;33m.\u001b[0m\u001b[0mexecute\u001b[0m\u001b[1;33m(\u001b[0m\u001b[0mdriver_command\u001b[0m\u001b[1;33m,\u001b[0m \u001b[0mparams\u001b[0m\u001b[1;33m)\u001b[0m\u001b[1;33m\u001b[0m\u001b[1;33m\u001b[0m\u001b[0m\n\u001b[0;32m    320\u001b[0m         \u001b[1;32mif\u001b[0m \u001b[0mresponse\u001b[0m\u001b[1;33m:\u001b[0m\u001b[1;33m\u001b[0m\u001b[1;33m\u001b[0m\u001b[0m\n\u001b[1;32m--> 321\u001b[1;33m             \u001b[0mself\u001b[0m\u001b[1;33m.\u001b[0m\u001b[0merror_handler\u001b[0m\u001b[1;33m.\u001b[0m\u001b[0mcheck_response\u001b[0m\u001b[1;33m(\u001b[0m\u001b[0mresponse\u001b[0m\u001b[1;33m)\u001b[0m\u001b[1;33m\u001b[0m\u001b[1;33m\u001b[0m\u001b[0m\n\u001b[0m\u001b[0;32m    322\u001b[0m             response['value'] = self._unwrap_value(\n\u001b[0;32m    323\u001b[0m                 response.get('value', None))\n",
      "\u001b[1;32mC:\\Python\\lib\\site-packages\\selenium\\webdriver\\remote\\errorhandler.py\u001b[0m in \u001b[0;36mcheck_response\u001b[1;34m(self, response)\u001b[0m\n\u001b[0;32m    240\u001b[0m                 \u001b[0malert_text\u001b[0m \u001b[1;33m=\u001b[0m \u001b[0mvalue\u001b[0m\u001b[1;33m[\u001b[0m\u001b[1;34m'alert'\u001b[0m\u001b[1;33m]\u001b[0m\u001b[1;33m.\u001b[0m\u001b[0mget\u001b[0m\u001b[1;33m(\u001b[0m\u001b[1;34m'text'\u001b[0m\u001b[1;33m)\u001b[0m\u001b[1;33m\u001b[0m\u001b[1;33m\u001b[0m\u001b[0m\n\u001b[0;32m    241\u001b[0m             \u001b[1;32mraise\u001b[0m \u001b[0mexception_class\u001b[0m\u001b[1;33m(\u001b[0m\u001b[0mmessage\u001b[0m\u001b[1;33m,\u001b[0m \u001b[0mscreen\u001b[0m\u001b[1;33m,\u001b[0m \u001b[0mstacktrace\u001b[0m\u001b[1;33m,\u001b[0m \u001b[0malert_text\u001b[0m\u001b[1;33m)\u001b[0m\u001b[1;33m\u001b[0m\u001b[1;33m\u001b[0m\u001b[0m\n\u001b[1;32m--> 242\u001b[1;33m         \u001b[1;32mraise\u001b[0m \u001b[0mexception_class\u001b[0m\u001b[1;33m(\u001b[0m\u001b[0mmessage\u001b[0m\u001b[1;33m,\u001b[0m \u001b[0mscreen\u001b[0m\u001b[1;33m,\u001b[0m \u001b[0mstacktrace\u001b[0m\u001b[1;33m)\u001b[0m\u001b[1;33m\u001b[0m\u001b[1;33m\u001b[0m\u001b[0m\n\u001b[0m\u001b[0;32m    243\u001b[0m \u001b[1;33m\u001b[0m\u001b[0m\n\u001b[0;32m    244\u001b[0m     \u001b[1;32mdef\u001b[0m \u001b[0m_value_or_default\u001b[0m\u001b[1;33m(\u001b[0m\u001b[0mself\u001b[0m\u001b[1;33m,\u001b[0m \u001b[0mobj\u001b[0m\u001b[1;33m,\u001b[0m \u001b[0mkey\u001b[0m\u001b[1;33m,\u001b[0m \u001b[0mdefault\u001b[0m\u001b[1;33m)\u001b[0m\u001b[1;33m:\u001b[0m\u001b[1;33m\u001b[0m\u001b[1;33m\u001b[0m\u001b[0m\n",
      "\u001b[1;31mNoSuchElementException\u001b[0m: Message: no such element: Unable to locate element: {\"method\":\"xpath\",\"selector\":\"//button[@class='gd-ui-button ml-std col-auto SearchStyles_newSearchButton css-iixdfr']\"}\n  (Session info: chrome=89.0.4389.114)\n"
     ]
    }
   ],
   "source": [
    "search_btn4 = driver.find_element_by_xpath(\"//button[@class='gd-ui-button ml-std col-auto SearchStyles_newSearchButton css-iixdfr']\")\n",
    "search_btn4.click()"
   ]
  },
  {
   "cell_type": "markdown",
   "metadata": {},
   "source": [
    "# Q6"
   ]
  },
  {
   "cell_type": "code",
   "execution_count": 4,
   "metadata": {},
   "outputs": [],
   "source": [
    "driver.get('https://www.flipkart.com/')"
   ]
  },
  {
   "cell_type": "code",
   "execution_count": 5,
   "metadata": {},
   "outputs": [],
   "source": [
    "value_class = driver.find_element_by_xpath(\"//input[@class='_3704LK']\")\n",
    "value_class.send_keys(\"Sunglasses\")"
   ]
  },
  {
   "cell_type": "code",
   "execution_count": 13,
   "metadata": {},
   "outputs": [],
   "source": [
    "search_btn6 = driver.find_element_by_xpath(\"//button[@class='L0Z3Pu']\")\n",
    "search_btn6.click()"
   ]
  },
  {
   "cell_type": "code",
   "execution_count": 14,
   "metadata": {},
   "outputs": [],
   "source": [
    "Brand_list=[]\n",
    "Product_Description_list=[]\n",
    "Price_list=[]\n",
    "Discount_percent_list=[]"
   ]
  },
  {
   "cell_type": "code",
   "execution_count": 15,
   "metadata": {},
   "outputs": [
    {
     "data": {
      "text/plain": [
       "[<selenium.webdriver.remote.webelement.WebElement (session=\"1edb731b602ff42ac592e2c3b4b59aa0\", element=\"daac5cee-df4d-4a44-b27a-ea50edb55bd8\")>,\n",
       " <selenium.webdriver.remote.webelement.WebElement (session=\"1edb731b602ff42ac592e2c3b4b59aa0\", element=\"8d6ad254-a82d-4880-98af-e23a7be365ed\")>,\n",
       " <selenium.webdriver.remote.webelement.WebElement (session=\"1edb731b602ff42ac592e2c3b4b59aa0\", element=\"e5ef20b7-bb5b-40eb-b4c4-52b6ea1f0634\")>,\n",
       " <selenium.webdriver.remote.webelement.WebElement (session=\"1edb731b602ff42ac592e2c3b4b59aa0\", element=\"1da20b1d-1f91-45f0-a431-a24e41d0ab6a\")>,\n",
       " <selenium.webdriver.remote.webelement.WebElement (session=\"1edb731b602ff42ac592e2c3b4b59aa0\", element=\"14fe9f7f-5169-49a8-b961-10c8e054e528\")>,\n",
       " <selenium.webdriver.remote.webelement.WebElement (session=\"1edb731b602ff42ac592e2c3b4b59aa0\", element=\"fe7fecb3-9599-4fd4-835d-2fc66c990cee\")>,\n",
       " <selenium.webdriver.remote.webelement.WebElement (session=\"1edb731b602ff42ac592e2c3b4b59aa0\", element=\"fd2a1684-23a5-4735-b5dc-ec23053c2686\")>,\n",
       " <selenium.webdriver.remote.webelement.WebElement (session=\"1edb731b602ff42ac592e2c3b4b59aa0\", element=\"8a377135-931f-4a51-8cb1-7bc5d30327fa\")>,\n",
       " <selenium.webdriver.remote.webelement.WebElement (session=\"1edb731b602ff42ac592e2c3b4b59aa0\", element=\"b8344f92-c62f-4768-a498-8aa27b71c2f1\")>,\n",
       " <selenium.webdriver.remote.webelement.WebElement (session=\"1edb731b602ff42ac592e2c3b4b59aa0\", element=\"4d344c29-8afd-4629-9e35-54d53fc47535\")>]"
      ]
     },
     "execution_count": 15,
     "metadata": {},
     "output_type": "execute_result"
    }
   ],
   "source": [
    "# so lets extract all the tags having the job-titles\n",
    "Brand_tags=driver.find_elements_by_xpath(\"//div[@class='_2WkVRV']\")\n",
    "Brand_tags[0:10]"
   ]
  },
  {
   "cell_type": "code",
   "execution_count": 16,
   "metadata": {},
   "outputs": [
    {
     "data": {
      "text/plain": [
       "['shadz',\n",
       " 'hipe',\n",
       " 'Fastrack',\n",
       " 'PIRASO',\n",
       " 'Fastrack',\n",
       " 'Fastrack',\n",
       " 'Silver Kartz',\n",
       " 'PIRASO',\n",
       " 'Fastrack',\n",
       " 'Fastrack']"
      ]
     },
     "execution_count": 16,
     "metadata": {},
     "output_type": "execute_result"
    }
   ],
   "source": [
    "#now the text of the job title is inside the tags extracted above\n",
    "# so we will run a loop to iterate over the tags extracted above and extract the text inside them.\n",
    "for i in Brand_tags:\n",
    "    Brand=i.text\n",
    "    Brand_list.append(Brand)\n",
    "Brand_list[0:10]"
   ]
  },
  {
   "cell_type": "code",
   "execution_count": null,
   "metadata": {},
   "outputs": [],
   "source": [
    "Product_Description_tags=driver.find_elements_by_xpath(\"//div[@class='_2WkVRV']\")\n",
    "Product_Description_tags[0:10]"
   ]
  }
 ],
 "metadata": {
  "kernelspec": {
   "display_name": "Python 3",
   "language": "python",
   "name": "python3"
  },
  "language_info": {
   "codemirror_mode": {
    "name": "ipython",
    "version": 3
   },
   "file_extension": ".py",
   "mimetype": "text/x-python",
   "name": "python",
   "nbconvert_exporter": "python",
   "pygments_lexer": "ipython3",
   "version": "3.8.5"
  }
 },
 "nbformat": 4,
 "nbformat_minor": 4
}
